{
  "cells": [
    {
      "cell_type": "code",
      "execution_count": 1,
      "metadata": {
        "id": "kWNHGtQZdio6"
      },
      "outputs": [],
      "source": [
        "import pandas as pd\n",
        "import numpy as np\n",
        "import warnings\n",
        "warnings.filterwarnings(\"ignore\")\n",
        "from collections import Counter\n",
        "import nltk\n",
        "import re\n",
        "from nltk.corpus import stopwords\n",
        "from nltk.stem.porter import PorterStemmer\n",
        "import keras\n",
        "from tensorflow.keras.utils import to_categorical\n",
        "from sklearn.model_selection import train_test_split\n",
        "from keras import Input\n",
        "from keras.layers import Embedding,LSTM, concatenate, Dense\n",
        "from keras.models import Model\n",
        "from keras.utils.vis_utils import plot_model\n",
        "#from keras.utils import plot_model\n",
        "import matplotlib.pyplot as plt\n",
        "from IPython.display import SVG\n",
        "from keras.utils.vis_utils import model_to_dot\n",
        "from tensorflow.keras.optimizers import Adam\n",
        "from textblob import TextBlob\n",
        "import cufflinks as cf\n",
        "from wordcloud import WordCloud, STOPWORDS, ImageColorGenerator"
      ]
    },
    {
      "cell_type": "code",
      "execution_count": 2,
      "metadata": {
        "colab": {
          "base_uri": "https://localhost:8080/"
        },
        "id": "HdfaMGMd6ieL",
        "outputId": "f2541a7b-2c36-48c2-dcad-a154ec5b8b0e"
      },
      "outputs": [
        {
          "output_type": "stream",
          "name": "stdout",
          "text": [
            "[nltk_data] Downloading package stopwords to /root/nltk_data...\n",
            "[nltk_data]   Package stopwords is already up-to-date!\n"
          ]
        },
        {
          "output_type": "execute_result",
          "data": {
            "text/plain": [
              "True"
            ]
          },
          "metadata": {},
          "execution_count": 2
        }
      ],
      "source": [
        "nltk.download(\"stopwords\") #words that we don't help us understand the semantic of the sentence"
      ]
    },
    {
      "cell_type": "code",
      "execution_count": 3,
      "metadata": {
        "id": "wPjiK0ra5bAZ"
      },
      "outputs": [],
      "source": [
        "train = pd.read_csv(\"/content/train.csv\")"
      ]
    },
    {
      "cell_type": "code",
      "source": [
        "# Shape of dataset\n",
        "print(\"\\n Shape of the train DataSet\")\n",
        "print(train.head())\n",
        "print(train.shape)\n",
        "print(\"\\n Label\", Counter(train['label']))"
      ],
      "metadata": {
        "colab": {
          "base_uri": "https://localhost:8080/"
        },
        "id": "MWPrFouiOQMi",
        "outputId": "195a5e79-7758-4e36-b39b-fed76a69dbd9"
      },
      "execution_count": 4,
      "outputs": [
        {
          "output_type": "stream",
          "name": "stdout",
          "text": [
            "\n",
            " Shape of the train DataSet\n",
            "       id  tid1  tid2                                          title1_en  \\\n",
            "0  195611     0     1  There are two new old-age insurance benefits f...   \n",
            "1  191474     2     3  \"If you do not come to Shenzhen, sooner or lat...   \n",
            "2   25300     2     4  \"If you do not come to Shenzhen, sooner or lat...   \n",
            "3  123757     2     8  \"If you do not come to Shenzhen, sooner or lat...   \n",
            "4  141761     2    11  \"If you do not come to Shenzhen, sooner or lat...   \n",
            "\n",
            "                                           title2_en      label  \n",
            "0  Police disprove \"bird's nest congress each per...  unrelated  \n",
            "1  Shenzhen's GDP outstrips Hong Kong? Shenzhen S...  unrelated  \n",
            "2  The GDP overtopped Hong Kong? Shenzhen clarifi...  unrelated  \n",
            "3  Shenzhen's GDP overtakes Hong Kong? Bureau of ...  unrelated  \n",
            "4  Shenzhen's GDP outpaces Hong Kong? Defending R...  unrelated  \n",
            "(256442, 6)\n",
            "\n",
            " Label Counter({'unrelated': 175598, 'agreed': 74238, 'disagreed': 6606})\n"
          ]
        }
      ]
    },
    {
      "cell_type": "code",
      "execution_count": 5,
      "metadata": {
        "colab": {
          "base_uri": "https://localhost:8080/"
        },
        "id": "ymOQR4-S5oPa",
        "outputId": "f414d6f4-05d1-4a63-b1a9-a7c54ae5ea22"
      },
      "outputs": [
        {
          "output_type": "stream",
          "name": "stdout",
          "text": [
            "\n",
            "Null values id           0\n",
            "tid1         0\n",
            "tid2         0\n",
            "title1_en    0\n",
            "title2_en    0\n",
            "label        0\n",
            "dtype: int64\n",
            "\n",
            "After dropping null values\n",
            "id           0\n",
            "tid1         0\n",
            "tid2         0\n",
            "title1_en    0\n",
            "title2_en    0\n",
            "label        0\n",
            "dtype: int64\n",
            "\n",
            "Final train data head after null value:\n"
          ]
        }
      ],
      "source": [
        "print(\"\\nNull values\", train.isnull().sum())\n",
        "train=train.dropna()\n",
        "print(\"\\nAfter dropping null values\")\n",
        "print(train.isnull().sum())\n",
        "print(\"\\nFinal train data head after null value:\")"
      ]
    },
    {
      "cell_type": "code",
      "execution_count": 6,
      "metadata": {
        "id": "0HxWVbjJ5qud",
        "colab": {
          "base_uri": "https://localhost:8080/",
          "height": 424
        },
        "outputId": "6ebfb52b-2558-4912-c2b3-b0fa99c20b56"
      },
      "outputs": [
        {
          "output_type": "execute_result",
          "data": {
            "text/plain": [
              "         index      id    tid1    tid2  \\\n",
              "0            0  195611       0       1   \n",
              "1            1  191474       2       3   \n",
              "2            2   25300       2       4   \n",
              "3            3  123757       2       8   \n",
              "4            4  141761       2      11   \n",
              "...        ...     ...     ...     ...   \n",
              "256437  256437  113364  167562   48447   \n",
              "256438  256438   49407  167562   49795   \n",
              "256439  256439  130134  167562  114783   \n",
              "256440  256440  101494  167562  137705   \n",
              "256441  256441   89356  167563   66480   \n",
              "\n",
              "                                                title1_en  \\\n",
              "0       There are two new old-age insurance benefits f...   \n",
              "1       \"If you do not come to Shenzhen, sooner or lat...   \n",
              "2       \"If you do not come to Shenzhen, sooner or lat...   \n",
              "3       \"If you do not come to Shenzhen, sooner or lat...   \n",
              "4       \"If you do not come to Shenzhen, sooner or lat...   \n",
              "...                                                   ...   \n",
              "256437  egypt 's presidential election failed to win m...   \n",
              "256438  egypt 's presidential election failed to win m...   \n",
              "256439  egypt 's presidential election failed to win m...   \n",
              "256440  egypt 's presidential election failed to win m...   \n",
              "256441  Will the United States wage war on Iraq withou...   \n",
              "\n",
              "                                                title2_en      label  \n",
              "0       Police disprove \"bird's nest congress each per...  unrelated  \n",
              "1       Shenzhen's GDP outstrips Hong Kong? Shenzhen S...  unrelated  \n",
              "2       The GDP overtopped Hong Kong? Shenzhen clarifi...  unrelated  \n",
              "3       Shenzhen's GDP overtakes Hong Kong? Bureau of ...  unrelated  \n",
              "4       Shenzhen's GDP outpaces Hong Kong? Defending R...  unrelated  \n",
              "...                                                   ...        ...  \n",
              "256437  Salah is retiring? Football Association offici...  unrelated  \n",
              "256438  Liverpool's bid for Little Germany? The Echo's...  unrelated  \n",
              "256439  West Media Exposing Tallahlach has been recomm...  unrelated  \n",
              "256440  Rumor has it that Egypt is very united and the...  unrelated  \n",
              "256441  Saddam's daughter refutes rumors: no. 2 of Sad...  unrelated  \n",
              "\n",
              "[256442 rows x 7 columns]"
            ],
            "text/html": [
              "\n",
              "  <div id=\"df-584eb54c-209d-4b88-89cd-78597881fb28\">\n",
              "    <div class=\"colab-df-container\">\n",
              "      <div>\n",
              "<style scoped>\n",
              "    .dataframe tbody tr th:only-of-type {\n",
              "        vertical-align: middle;\n",
              "    }\n",
              "\n",
              "    .dataframe tbody tr th {\n",
              "        vertical-align: top;\n",
              "    }\n",
              "\n",
              "    .dataframe thead th {\n",
              "        text-align: right;\n",
              "    }\n",
              "</style>\n",
              "<table border=\"1\" class=\"dataframe\">\n",
              "  <thead>\n",
              "    <tr style=\"text-align: right;\">\n",
              "      <th></th>\n",
              "      <th>index</th>\n",
              "      <th>id</th>\n",
              "      <th>tid1</th>\n",
              "      <th>tid2</th>\n",
              "      <th>title1_en</th>\n",
              "      <th>title2_en</th>\n",
              "      <th>label</th>\n",
              "    </tr>\n",
              "  </thead>\n",
              "  <tbody>\n",
              "    <tr>\n",
              "      <th>0</th>\n",
              "      <td>0</td>\n",
              "      <td>195611</td>\n",
              "      <td>0</td>\n",
              "      <td>1</td>\n",
              "      <td>There are two new old-age insurance benefits f...</td>\n",
              "      <td>Police disprove \"bird's nest congress each per...</td>\n",
              "      <td>unrelated</td>\n",
              "    </tr>\n",
              "    <tr>\n",
              "      <th>1</th>\n",
              "      <td>1</td>\n",
              "      <td>191474</td>\n",
              "      <td>2</td>\n",
              "      <td>3</td>\n",
              "      <td>\"If you do not come to Shenzhen, sooner or lat...</td>\n",
              "      <td>Shenzhen's GDP outstrips Hong Kong? Shenzhen S...</td>\n",
              "      <td>unrelated</td>\n",
              "    </tr>\n",
              "    <tr>\n",
              "      <th>2</th>\n",
              "      <td>2</td>\n",
              "      <td>25300</td>\n",
              "      <td>2</td>\n",
              "      <td>4</td>\n",
              "      <td>\"If you do not come to Shenzhen, sooner or lat...</td>\n",
              "      <td>The GDP overtopped Hong Kong? Shenzhen clarifi...</td>\n",
              "      <td>unrelated</td>\n",
              "    </tr>\n",
              "    <tr>\n",
              "      <th>3</th>\n",
              "      <td>3</td>\n",
              "      <td>123757</td>\n",
              "      <td>2</td>\n",
              "      <td>8</td>\n",
              "      <td>\"If you do not come to Shenzhen, sooner or lat...</td>\n",
              "      <td>Shenzhen's GDP overtakes Hong Kong? Bureau of ...</td>\n",
              "      <td>unrelated</td>\n",
              "    </tr>\n",
              "    <tr>\n",
              "      <th>4</th>\n",
              "      <td>4</td>\n",
              "      <td>141761</td>\n",
              "      <td>2</td>\n",
              "      <td>11</td>\n",
              "      <td>\"If you do not come to Shenzhen, sooner or lat...</td>\n",
              "      <td>Shenzhen's GDP outpaces Hong Kong? Defending R...</td>\n",
              "      <td>unrelated</td>\n",
              "    </tr>\n",
              "    <tr>\n",
              "      <th>...</th>\n",
              "      <td>...</td>\n",
              "      <td>...</td>\n",
              "      <td>...</td>\n",
              "      <td>...</td>\n",
              "      <td>...</td>\n",
              "      <td>...</td>\n",
              "      <td>...</td>\n",
              "    </tr>\n",
              "    <tr>\n",
              "      <th>256437</th>\n",
              "      <td>256437</td>\n",
              "      <td>113364</td>\n",
              "      <td>167562</td>\n",
              "      <td>48447</td>\n",
              "      <td>egypt 's presidential election failed to win m...</td>\n",
              "      <td>Salah is retiring? Football Association offici...</td>\n",
              "      <td>unrelated</td>\n",
              "    </tr>\n",
              "    <tr>\n",
              "      <th>256438</th>\n",
              "      <td>256438</td>\n",
              "      <td>49407</td>\n",
              "      <td>167562</td>\n",
              "      <td>49795</td>\n",
              "      <td>egypt 's presidential election failed to win m...</td>\n",
              "      <td>Liverpool's bid for Little Germany? The Echo's...</td>\n",
              "      <td>unrelated</td>\n",
              "    </tr>\n",
              "    <tr>\n",
              "      <th>256439</th>\n",
              "      <td>256439</td>\n",
              "      <td>130134</td>\n",
              "      <td>167562</td>\n",
              "      <td>114783</td>\n",
              "      <td>egypt 's presidential election failed to win m...</td>\n",
              "      <td>West Media Exposing Tallahlach has been recomm...</td>\n",
              "      <td>unrelated</td>\n",
              "    </tr>\n",
              "    <tr>\n",
              "      <th>256440</th>\n",
              "      <td>256440</td>\n",
              "      <td>101494</td>\n",
              "      <td>167562</td>\n",
              "      <td>137705</td>\n",
              "      <td>egypt 's presidential election failed to win m...</td>\n",
              "      <td>Rumor has it that Egypt is very united and the...</td>\n",
              "      <td>unrelated</td>\n",
              "    </tr>\n",
              "    <tr>\n",
              "      <th>256441</th>\n",
              "      <td>256441</td>\n",
              "      <td>89356</td>\n",
              "      <td>167563</td>\n",
              "      <td>66480</td>\n",
              "      <td>Will the United States wage war on Iraq withou...</td>\n",
              "      <td>Saddam's daughter refutes rumors: no. 2 of Sad...</td>\n",
              "      <td>unrelated</td>\n",
              "    </tr>\n",
              "  </tbody>\n",
              "</table>\n",
              "<p>256442 rows × 7 columns</p>\n",
              "</div>\n",
              "      <button class=\"colab-df-convert\" onclick=\"convertToInteractive('df-584eb54c-209d-4b88-89cd-78597881fb28')\"\n",
              "              title=\"Convert this dataframe to an interactive table.\"\n",
              "              style=\"display:none;\">\n",
              "        \n",
              "  <svg xmlns=\"http://www.w3.org/2000/svg\" height=\"24px\"viewBox=\"0 0 24 24\"\n",
              "       width=\"24px\">\n",
              "    <path d=\"M0 0h24v24H0V0z\" fill=\"none\"/>\n",
              "    <path d=\"M18.56 5.44l.94 2.06.94-2.06 2.06-.94-2.06-.94-.94-2.06-.94 2.06-2.06.94zm-11 1L8.5 8.5l.94-2.06 2.06-.94-2.06-.94L8.5 2.5l-.94 2.06-2.06.94zm10 10l.94 2.06.94-2.06 2.06-.94-2.06-.94-.94-2.06-.94 2.06-2.06.94z\"/><path d=\"M17.41 7.96l-1.37-1.37c-.4-.4-.92-.59-1.43-.59-.52 0-1.04.2-1.43.59L10.3 9.45l-7.72 7.72c-.78.78-.78 2.05 0 2.83L4 21.41c.39.39.9.59 1.41.59.51 0 1.02-.2 1.41-.59l7.78-7.78 2.81-2.81c.8-.78.8-2.07 0-2.86zM5.41 20L4 18.59l7.72-7.72 1.47 1.35L5.41 20z\"/>\n",
              "  </svg>\n",
              "      </button>\n",
              "      \n",
              "  <style>\n",
              "    .colab-df-container {\n",
              "      display:flex;\n",
              "      flex-wrap:wrap;\n",
              "      gap: 12px;\n",
              "    }\n",
              "\n",
              "    .colab-df-convert {\n",
              "      background-color: #E8F0FE;\n",
              "      border: none;\n",
              "      border-radius: 50%;\n",
              "      cursor: pointer;\n",
              "      display: none;\n",
              "      fill: #1967D2;\n",
              "      height: 32px;\n",
              "      padding: 0 0 0 0;\n",
              "      width: 32px;\n",
              "    }\n",
              "\n",
              "    .colab-df-convert:hover {\n",
              "      background-color: #E2EBFA;\n",
              "      box-shadow: 0px 1px 2px rgba(60, 64, 67, 0.3), 0px 1px 3px 1px rgba(60, 64, 67, 0.15);\n",
              "      fill: #174EA6;\n",
              "    }\n",
              "\n",
              "    [theme=dark] .colab-df-convert {\n",
              "      background-color: #3B4455;\n",
              "      fill: #D2E3FC;\n",
              "    }\n",
              "\n",
              "    [theme=dark] .colab-df-convert:hover {\n",
              "      background-color: #434B5C;\n",
              "      box-shadow: 0px 1px 3px 1px rgba(0, 0, 0, 0.15);\n",
              "      filter: drop-shadow(0px 1px 2px rgba(0, 0, 0, 0.3));\n",
              "      fill: #FFFFFF;\n",
              "    }\n",
              "  </style>\n",
              "\n",
              "      <script>\n",
              "        const buttonEl =\n",
              "          document.querySelector('#df-584eb54c-209d-4b88-89cd-78597881fb28 button.colab-df-convert');\n",
              "        buttonEl.style.display =\n",
              "          google.colab.kernel.accessAllowed ? 'block' : 'none';\n",
              "\n",
              "        async function convertToInteractive(key) {\n",
              "          const element = document.querySelector('#df-584eb54c-209d-4b88-89cd-78597881fb28');\n",
              "          const dataTable =\n",
              "            await google.colab.kernel.invokeFunction('convertToInteractive',\n",
              "                                                     [key], {});\n",
              "          if (!dataTable) return;\n",
              "\n",
              "          const docLinkHtml = 'Like what you see? Visit the ' +\n",
              "            '<a target=\"_blank\" href=https://colab.research.google.com/notebooks/data_table.ipynb>data table notebook</a>'\n",
              "            + ' to learn more about interactive tables.';\n",
              "          element.innerHTML = '';\n",
              "          dataTable['output_type'] = 'display_data';\n",
              "          await google.colab.output.renderOutput(dataTable, element);\n",
              "          const docLink = document.createElement('div');\n",
              "          docLink.innerHTML = docLinkHtml;\n",
              "          element.appendChild(docLink);\n",
              "        }\n",
              "      </script>\n",
              "    </div>\n",
              "  </div>\n",
              "  "
            ]
          },
          "metadata": {},
          "execution_count": 6
        }
      ],
      "source": [
        "# incase of any null data it resets its index\n",
        "train = train.copy()\n",
        "train.reset_index(inplace=True)\n",
        "train"
      ]
    },
    {
      "cell_type": "code",
      "execution_count": 7,
      "metadata": {
        "id": "ng7rP-4o50kI"
      },
      "outputs": [],
      "source": [
        "ps = PorterStemmer() #Stemming words with NLTK\n",
        "corpus1 = []\n",
        "for i in range(0, len(train)):\n",
        "    review = re.sub('[^a-zA-Z]', ' ', train['title1_en'][i]) #function used to replace occurrences of a specific sub-string with a different sub-string.\n",
        "    review = review.lower() # convert to lower case\n",
        "    review = review.split() # split the sentence\n",
        "\n",
        "    review = [ps.stem(word) for word in review if not word in stopwords.words('english')] # checking if each word in the sentence belongs to the list of stopwords or not\n",
        "    review = ' '.join(review) # join the words without the stopwords\n",
        "    corpus1.append(review) # add back the sentence in the list without the stopwords\n",
        "\n",
        "corpus2 = []\n",
        "for i in range(0, len(train)):\n",
        "    review = re.sub('[^a-zA-Z]', ' ', train['title2_en'][i])\n",
        "    review = review.lower()\n",
        "    review = review.split()\n",
        "\n",
        "    review = [ps.stem(word) for word in review if not word in stopwords.words('english')]\n",
        "    review = ' '.join(review)\n",
        "    corpus2.append(review)"
      ]
    },
    {
      "cell_type": "code",
      "execution_count": 9,
      "metadata": {
        "id": "pIpsWdV17Wmp",
        "colab": {
          "base_uri": "https://localhost:8080/"
        },
        "outputId": "361a1b85-b34b-4bf2-ad60-fb6b1f1ac24b"
      },
      "outputs": [
        {
          "output_type": "stream",
          "name": "stdout",
          "text": [
            "special treatment cervic spondylosi use tradit chines medicin sparkl wine\n",
            "special treatment cervic spine protrud tradit chines herbal medicin\n"
          ]
        }
      ],
      "source": [
        "print(corpus1[83])\n",
        "print(corpus2[83])"
      ]
    },
    {
      "cell_type": "code",
      "execution_count": 10,
      "metadata": {
        "id": "DglbR-PN7ZVt"
      },
      "outputs": [],
      "source": [
        "MAX_NUM_WORDS = 10000\n",
        "tokenizer = keras.preprocessing.text.Tokenizer(num_words=MAX_NUM_WORDS) #vectorizing a text corpus"
      ]
    },
    {
      "cell_type": "code",
      "execution_count": 11,
      "metadata": {
        "id": "twDg0Rsk7f5q",
        "colab": {
          "base_uri": "https://localhost:8080/",
          "height": 206
        },
        "outputId": "491dc0a6-89d7-4ba6-f368-40d65296b354"
      },
      "outputs": [
        {
          "output_type": "execute_result",
          "data": {
            "text/plain": [
              "                                           title1_en  \\\n",
              "0  There are two new old-age insurance benefits f...   \n",
              "1  \"If you do not come to Shenzhen, sooner or lat...   \n",
              "2  \"If you do not come to Shenzhen, sooner or lat...   \n",
              "3  \"If you do not come to Shenzhen, sooner or lat...   \n",
              "4  \"If you do not come to Shenzhen, sooner or lat...   \n",
              "\n",
              "                                 title1_en_tokenized  \n",
              "0  two new old age insur benefit old peopl rural ...  \n",
              "1  come shenzhen sooner later son also come less ...  \n",
              "2  come shenzhen sooner later son also come less ...  \n",
              "3  come shenzhen sooner later son also come less ...  \n",
              "4  come shenzhen sooner later son also come less ...  "
            ],
            "text/html": [
              "\n",
              "  <div id=\"df-38b149c4-38ee-4d13-b25c-7dcf233a38e9\">\n",
              "    <div class=\"colab-df-container\">\n",
              "      <div>\n",
              "<style scoped>\n",
              "    .dataframe tbody tr th:only-of-type {\n",
              "        vertical-align: middle;\n",
              "    }\n",
              "\n",
              "    .dataframe tbody tr th {\n",
              "        vertical-align: top;\n",
              "    }\n",
              "\n",
              "    .dataframe thead th {\n",
              "        text-align: right;\n",
              "    }\n",
              "</style>\n",
              "<table border=\"1\" class=\"dataframe\">\n",
              "  <thead>\n",
              "    <tr style=\"text-align: right;\">\n",
              "      <th></th>\n",
              "      <th>title1_en</th>\n",
              "      <th>title1_en_tokenized</th>\n",
              "    </tr>\n",
              "  </thead>\n",
              "  <tbody>\n",
              "    <tr>\n",
              "      <th>0</th>\n",
              "      <td>There are two new old-age insurance benefits f...</td>\n",
              "      <td>two new old age insur benefit old peopl rural ...</td>\n",
              "    </tr>\n",
              "    <tr>\n",
              "      <th>1</th>\n",
              "      <td>\"If you do not come to Shenzhen, sooner or lat...</td>\n",
              "      <td>come shenzhen sooner later son also come less ...</td>\n",
              "    </tr>\n",
              "    <tr>\n",
              "      <th>2</th>\n",
              "      <td>\"If you do not come to Shenzhen, sooner or lat...</td>\n",
              "      <td>come shenzhen sooner later son also come less ...</td>\n",
              "    </tr>\n",
              "    <tr>\n",
              "      <th>3</th>\n",
              "      <td>\"If you do not come to Shenzhen, sooner or lat...</td>\n",
              "      <td>come shenzhen sooner later son also come less ...</td>\n",
              "    </tr>\n",
              "    <tr>\n",
              "      <th>4</th>\n",
              "      <td>\"If you do not come to Shenzhen, sooner or lat...</td>\n",
              "      <td>come shenzhen sooner later son also come less ...</td>\n",
              "    </tr>\n",
              "  </tbody>\n",
              "</table>\n",
              "</div>\n",
              "      <button class=\"colab-df-convert\" onclick=\"convertToInteractive('df-38b149c4-38ee-4d13-b25c-7dcf233a38e9')\"\n",
              "              title=\"Convert this dataframe to an interactive table.\"\n",
              "              style=\"display:none;\">\n",
              "        \n",
              "  <svg xmlns=\"http://www.w3.org/2000/svg\" height=\"24px\"viewBox=\"0 0 24 24\"\n",
              "       width=\"24px\">\n",
              "    <path d=\"M0 0h24v24H0V0z\" fill=\"none\"/>\n",
              "    <path d=\"M18.56 5.44l.94 2.06.94-2.06 2.06-.94-2.06-.94-.94-2.06-.94 2.06-2.06.94zm-11 1L8.5 8.5l.94-2.06 2.06-.94-2.06-.94L8.5 2.5l-.94 2.06-2.06.94zm10 10l.94 2.06.94-2.06 2.06-.94-2.06-.94-.94-2.06-.94 2.06-2.06.94z\"/><path d=\"M17.41 7.96l-1.37-1.37c-.4-.4-.92-.59-1.43-.59-.52 0-1.04.2-1.43.59L10.3 9.45l-7.72 7.72c-.78.78-.78 2.05 0 2.83L4 21.41c.39.39.9.59 1.41.59.51 0 1.02-.2 1.41-.59l7.78-7.78 2.81-2.81c.8-.78.8-2.07 0-2.86zM5.41 20L4 18.59l7.72-7.72 1.47 1.35L5.41 20z\"/>\n",
              "  </svg>\n",
              "      </button>\n",
              "      \n",
              "  <style>\n",
              "    .colab-df-container {\n",
              "      display:flex;\n",
              "      flex-wrap:wrap;\n",
              "      gap: 12px;\n",
              "    }\n",
              "\n",
              "    .colab-df-convert {\n",
              "      background-color: #E8F0FE;\n",
              "      border: none;\n",
              "      border-radius: 50%;\n",
              "      cursor: pointer;\n",
              "      display: none;\n",
              "      fill: #1967D2;\n",
              "      height: 32px;\n",
              "      padding: 0 0 0 0;\n",
              "      width: 32px;\n",
              "    }\n",
              "\n",
              "    .colab-df-convert:hover {\n",
              "      background-color: #E2EBFA;\n",
              "      box-shadow: 0px 1px 2px rgba(60, 64, 67, 0.3), 0px 1px 3px 1px rgba(60, 64, 67, 0.15);\n",
              "      fill: #174EA6;\n",
              "    }\n",
              "\n",
              "    [theme=dark] .colab-df-convert {\n",
              "      background-color: #3B4455;\n",
              "      fill: #D2E3FC;\n",
              "    }\n",
              "\n",
              "    [theme=dark] .colab-df-convert:hover {\n",
              "      background-color: #434B5C;\n",
              "      box-shadow: 0px 1px 3px 1px rgba(0, 0, 0, 0.15);\n",
              "      filter: drop-shadow(0px 1px 2px rgba(0, 0, 0, 0.3));\n",
              "      fill: #FFFFFF;\n",
              "    }\n",
              "  </style>\n",
              "\n",
              "      <script>\n",
              "        const buttonEl =\n",
              "          document.querySelector('#df-38b149c4-38ee-4d13-b25c-7dcf233a38e9 button.colab-df-convert');\n",
              "        buttonEl.style.display =\n",
              "          google.colab.kernel.accessAllowed ? 'block' : 'none';\n",
              "\n",
              "        async function convertToInteractive(key) {\n",
              "          const element = document.querySelector('#df-38b149c4-38ee-4d13-b25c-7dcf233a38e9');\n",
              "          const dataTable =\n",
              "            await google.colab.kernel.invokeFunction('convertToInteractive',\n",
              "                                                     [key], {});\n",
              "          if (!dataTable) return;\n",
              "\n",
              "          const docLinkHtml = 'Like what you see? Visit the ' +\n",
              "            '<a target=\"_blank\" href=https://colab.research.google.com/notebooks/data_table.ipynb>data table notebook</a>'\n",
              "            + ' to learn more about interactive tables.';\n",
              "          element.innerHTML = '';\n",
              "          dataTable['output_type'] = 'display_data';\n",
              "          await google.colab.output.renderOutput(dataTable, element);\n",
              "          const docLink = document.createElement('div');\n",
              "          docLink.innerHTML = docLinkHtml;\n",
              "          element.appendChild(docLink);\n",
              "        }\n",
              "      </script>\n",
              "    </div>\n",
              "  </div>\n",
              "  "
            ]
          },
          "metadata": {},
          "execution_count": 11
        }
      ],
      "source": [
        "train['title1_en_tokenized'] = corpus1\n",
        "train[['title1_en', 'title1_en_tokenized']].head()"
      ]
    },
    {
      "cell_type": "code",
      "execution_count": 12,
      "metadata": {
        "id": "5F9A7URV7h56",
        "colab": {
          "base_uri": "https://localhost:8080/",
          "height": 206
        },
        "outputId": "63f4a4fd-d5f3-43d4-a908-7d570379df04"
      },
      "outputs": [
        {
          "output_type": "execute_result",
          "data": {
            "text/plain": [
              "                                           title2_en  \\\n",
              "0  Police disprove \"bird's nest congress each per...   \n",
              "1  Shenzhen's GDP outstrips Hong Kong? Shenzhen S...   \n",
              "2  The GDP overtopped Hong Kong? Shenzhen clarifi...   \n",
              "3  Shenzhen's GDP overtakes Hong Kong? Bureau of ...   \n",
              "4  Shenzhen's GDP outpaces Hong Kong? Defending R...   \n",
              "\n",
              "                                 title2_en_tokenized  \n",
              "0  polic disprov bird nest congress person get yu...  \n",
              "1  shenzhen gdp outstrip hong kong shenzhen stati...  \n",
              "2   gdp overtop hong kong shenzhen clarifi littl bit  \n",
              "3  shenzhen gdp overtak hong kong bureau statist ...  \n",
              "4  shenzhen gdp outpac hong kong defend rumor gap...  "
            ],
            "text/html": [
              "\n",
              "  <div id=\"df-b4dac7ac-0faf-4bd2-b847-58eb82736cb9\">\n",
              "    <div class=\"colab-df-container\">\n",
              "      <div>\n",
              "<style scoped>\n",
              "    .dataframe tbody tr th:only-of-type {\n",
              "        vertical-align: middle;\n",
              "    }\n",
              "\n",
              "    .dataframe tbody tr th {\n",
              "        vertical-align: top;\n",
              "    }\n",
              "\n",
              "    .dataframe thead th {\n",
              "        text-align: right;\n",
              "    }\n",
              "</style>\n",
              "<table border=\"1\" class=\"dataframe\">\n",
              "  <thead>\n",
              "    <tr style=\"text-align: right;\">\n",
              "      <th></th>\n",
              "      <th>title2_en</th>\n",
              "      <th>title2_en_tokenized</th>\n",
              "    </tr>\n",
              "  </thead>\n",
              "  <tbody>\n",
              "    <tr>\n",
              "      <th>0</th>\n",
              "      <td>Police disprove \"bird's nest congress each per...</td>\n",
              "      <td>polic disprov bird nest congress person get yu...</td>\n",
              "    </tr>\n",
              "    <tr>\n",
              "      <th>1</th>\n",
              "      <td>Shenzhen's GDP outstrips Hong Kong? Shenzhen S...</td>\n",
              "      <td>shenzhen gdp outstrip hong kong shenzhen stati...</td>\n",
              "    </tr>\n",
              "    <tr>\n",
              "      <th>2</th>\n",
              "      <td>The GDP overtopped Hong Kong? Shenzhen clarifi...</td>\n",
              "      <td>gdp overtop hong kong shenzhen clarifi littl bit</td>\n",
              "    </tr>\n",
              "    <tr>\n",
              "      <th>3</th>\n",
              "      <td>Shenzhen's GDP overtakes Hong Kong? Bureau of ...</td>\n",
              "      <td>shenzhen gdp overtak hong kong bureau statist ...</td>\n",
              "    </tr>\n",
              "    <tr>\n",
              "      <th>4</th>\n",
              "      <td>Shenzhen's GDP outpaces Hong Kong? Defending R...</td>\n",
              "      <td>shenzhen gdp outpac hong kong defend rumor gap...</td>\n",
              "    </tr>\n",
              "  </tbody>\n",
              "</table>\n",
              "</div>\n",
              "      <button class=\"colab-df-convert\" onclick=\"convertToInteractive('df-b4dac7ac-0faf-4bd2-b847-58eb82736cb9')\"\n",
              "              title=\"Convert this dataframe to an interactive table.\"\n",
              "              style=\"display:none;\">\n",
              "        \n",
              "  <svg xmlns=\"http://www.w3.org/2000/svg\" height=\"24px\"viewBox=\"0 0 24 24\"\n",
              "       width=\"24px\">\n",
              "    <path d=\"M0 0h24v24H0V0z\" fill=\"none\"/>\n",
              "    <path d=\"M18.56 5.44l.94 2.06.94-2.06 2.06-.94-2.06-.94-.94-2.06-.94 2.06-2.06.94zm-11 1L8.5 8.5l.94-2.06 2.06-.94-2.06-.94L8.5 2.5l-.94 2.06-2.06.94zm10 10l.94 2.06.94-2.06 2.06-.94-2.06-.94-.94-2.06-.94 2.06-2.06.94z\"/><path d=\"M17.41 7.96l-1.37-1.37c-.4-.4-.92-.59-1.43-.59-.52 0-1.04.2-1.43.59L10.3 9.45l-7.72 7.72c-.78.78-.78 2.05 0 2.83L4 21.41c.39.39.9.59 1.41.59.51 0 1.02-.2 1.41-.59l7.78-7.78 2.81-2.81c.8-.78.8-2.07 0-2.86zM5.41 20L4 18.59l7.72-7.72 1.47 1.35L5.41 20z\"/>\n",
              "  </svg>\n",
              "      </button>\n",
              "      \n",
              "  <style>\n",
              "    .colab-df-container {\n",
              "      display:flex;\n",
              "      flex-wrap:wrap;\n",
              "      gap: 12px;\n",
              "    }\n",
              "\n",
              "    .colab-df-convert {\n",
              "      background-color: #E8F0FE;\n",
              "      border: none;\n",
              "      border-radius: 50%;\n",
              "      cursor: pointer;\n",
              "      display: none;\n",
              "      fill: #1967D2;\n",
              "      height: 32px;\n",
              "      padding: 0 0 0 0;\n",
              "      width: 32px;\n",
              "    }\n",
              "\n",
              "    .colab-df-convert:hover {\n",
              "      background-color: #E2EBFA;\n",
              "      box-shadow: 0px 1px 2px rgba(60, 64, 67, 0.3), 0px 1px 3px 1px rgba(60, 64, 67, 0.15);\n",
              "      fill: #174EA6;\n",
              "    }\n",
              "\n",
              "    [theme=dark] .colab-df-convert {\n",
              "      background-color: #3B4455;\n",
              "      fill: #D2E3FC;\n",
              "    }\n",
              "\n",
              "    [theme=dark] .colab-df-convert:hover {\n",
              "      background-color: #434B5C;\n",
              "      box-shadow: 0px 1px 3px 1px rgba(0, 0, 0, 0.15);\n",
              "      filter: drop-shadow(0px 1px 2px rgba(0, 0, 0, 0.3));\n",
              "      fill: #FFFFFF;\n",
              "    }\n",
              "  </style>\n",
              "\n",
              "      <script>\n",
              "        const buttonEl =\n",
              "          document.querySelector('#df-b4dac7ac-0faf-4bd2-b847-58eb82736cb9 button.colab-df-convert');\n",
              "        buttonEl.style.display =\n",
              "          google.colab.kernel.accessAllowed ? 'block' : 'none';\n",
              "\n",
              "        async function convertToInteractive(key) {\n",
              "          const element = document.querySelector('#df-b4dac7ac-0faf-4bd2-b847-58eb82736cb9');\n",
              "          const dataTable =\n",
              "            await google.colab.kernel.invokeFunction('convertToInteractive',\n",
              "                                                     [key], {});\n",
              "          if (!dataTable) return;\n",
              "\n",
              "          const docLinkHtml = 'Like what you see? Visit the ' +\n",
              "            '<a target=\"_blank\" href=https://colab.research.google.com/notebooks/data_table.ipynb>data table notebook</a>'\n",
              "            + ' to learn more about interactive tables.';\n",
              "          element.innerHTML = '';\n",
              "          dataTable['output_type'] = 'display_data';\n",
              "          await google.colab.output.renderOutput(dataTable, element);\n",
              "          const docLink = document.createElement('div');\n",
              "          docLink.innerHTML = docLinkHtml;\n",
              "          element.appendChild(docLink);\n",
              "        }\n",
              "      </script>\n",
              "    </div>\n",
              "  </div>\n",
              "  "
            ]
          },
          "metadata": {},
          "execution_count": 12
        }
      ],
      "source": [
        "train['title2_en_tokenized'] = corpus2\n",
        "train[['title2_en', 'title2_en_tokenized']].head()"
      ]
    },
    {
      "cell_type": "code",
      "execution_count": 13,
      "metadata": {
        "id": "i9dw2ILz7mMP",
        "colab": {
          "base_uri": "https://localhost:8080/"
        },
        "outputId": "799d94bd-80c1-4bff-9cca-f6a41f1ecba9"
      },
      "outputs": [
        {
          "output_type": "execute_result",
          "data": {
            "text/plain": [
              "(512884,)"
            ]
          },
          "metadata": {},
          "execution_count": 13
        }
      ],
      "source": [
        "corpus_x1 = train.title1_en_tokenized\n",
        "corpus_x2 = train.title2_en_tokenized\n",
        "corpus = pd.concat([corpus_x1, corpus_x2]) #Concatenating the two corpus in series\n",
        "corpus.shape"
      ]
    },
    {
      "cell_type": "code",
      "source": [
        "pd.DataFrame(corpus.iloc[:5],columns=['title'])"
      ],
      "metadata": {
        "colab": {
          "base_uri": "https://localhost:8080/",
          "height": 206
        },
        "id": "c8pLagz4PKIp",
        "outputId": "5ee0ebd6-a316-4452-a43b-cdb909d5858d"
      },
      "execution_count": 14,
      "outputs": [
        {
          "output_type": "execute_result",
          "data": {
            "text/plain": [
              "                                               title\n",
              "0  two new old age insur benefit old peopl rural ...\n",
              "1  come shenzhen sooner later son also come less ...\n",
              "2  come shenzhen sooner later son also come less ...\n",
              "3  come shenzhen sooner later son also come less ...\n",
              "4  come shenzhen sooner later son also come less ..."
            ],
            "text/html": [
              "\n",
              "  <div id=\"df-23ecdc23-29ed-4dac-850a-9c2ca9304489\">\n",
              "    <div class=\"colab-df-container\">\n",
              "      <div>\n",
              "<style scoped>\n",
              "    .dataframe tbody tr th:only-of-type {\n",
              "        vertical-align: middle;\n",
              "    }\n",
              "\n",
              "    .dataframe tbody tr th {\n",
              "        vertical-align: top;\n",
              "    }\n",
              "\n",
              "    .dataframe thead th {\n",
              "        text-align: right;\n",
              "    }\n",
              "</style>\n",
              "<table border=\"1\" class=\"dataframe\">\n",
              "  <thead>\n",
              "    <tr style=\"text-align: right;\">\n",
              "      <th></th>\n",
              "      <th>title</th>\n",
              "    </tr>\n",
              "  </thead>\n",
              "  <tbody>\n",
              "    <tr>\n",
              "      <th>0</th>\n",
              "      <td>two new old age insur benefit old peopl rural ...</td>\n",
              "    </tr>\n",
              "    <tr>\n",
              "      <th>1</th>\n",
              "      <td>come shenzhen sooner later son also come less ...</td>\n",
              "    </tr>\n",
              "    <tr>\n",
              "      <th>2</th>\n",
              "      <td>come shenzhen sooner later son also come less ...</td>\n",
              "    </tr>\n",
              "    <tr>\n",
              "      <th>3</th>\n",
              "      <td>come shenzhen sooner later son also come less ...</td>\n",
              "    </tr>\n",
              "    <tr>\n",
              "      <th>4</th>\n",
              "      <td>come shenzhen sooner later son also come less ...</td>\n",
              "    </tr>\n",
              "  </tbody>\n",
              "</table>\n",
              "</div>\n",
              "      <button class=\"colab-df-convert\" onclick=\"convertToInteractive('df-23ecdc23-29ed-4dac-850a-9c2ca9304489')\"\n",
              "              title=\"Convert this dataframe to an interactive table.\"\n",
              "              style=\"display:none;\">\n",
              "        \n",
              "  <svg xmlns=\"http://www.w3.org/2000/svg\" height=\"24px\"viewBox=\"0 0 24 24\"\n",
              "       width=\"24px\">\n",
              "    <path d=\"M0 0h24v24H0V0z\" fill=\"none\"/>\n",
              "    <path d=\"M18.56 5.44l.94 2.06.94-2.06 2.06-.94-2.06-.94-.94-2.06-.94 2.06-2.06.94zm-11 1L8.5 8.5l.94-2.06 2.06-.94-2.06-.94L8.5 2.5l-.94 2.06-2.06.94zm10 10l.94 2.06.94-2.06 2.06-.94-2.06-.94-.94-2.06-.94 2.06-2.06.94z\"/><path d=\"M17.41 7.96l-1.37-1.37c-.4-.4-.92-.59-1.43-.59-.52 0-1.04.2-1.43.59L10.3 9.45l-7.72 7.72c-.78.78-.78 2.05 0 2.83L4 21.41c.39.39.9.59 1.41.59.51 0 1.02-.2 1.41-.59l7.78-7.78 2.81-2.81c.8-.78.8-2.07 0-2.86zM5.41 20L4 18.59l7.72-7.72 1.47 1.35L5.41 20z\"/>\n",
              "  </svg>\n",
              "      </button>\n",
              "      \n",
              "  <style>\n",
              "    .colab-df-container {\n",
              "      display:flex;\n",
              "      flex-wrap:wrap;\n",
              "      gap: 12px;\n",
              "    }\n",
              "\n",
              "    .colab-df-convert {\n",
              "      background-color: #E8F0FE;\n",
              "      border: none;\n",
              "      border-radius: 50%;\n",
              "      cursor: pointer;\n",
              "      display: none;\n",
              "      fill: #1967D2;\n",
              "      height: 32px;\n",
              "      padding: 0 0 0 0;\n",
              "      width: 32px;\n",
              "    }\n",
              "\n",
              "    .colab-df-convert:hover {\n",
              "      background-color: #E2EBFA;\n",
              "      box-shadow: 0px 1px 2px rgba(60, 64, 67, 0.3), 0px 1px 3px 1px rgba(60, 64, 67, 0.15);\n",
              "      fill: #174EA6;\n",
              "    }\n",
              "\n",
              "    [theme=dark] .colab-df-convert {\n",
              "      background-color: #3B4455;\n",
              "      fill: #D2E3FC;\n",
              "    }\n",
              "\n",
              "    [theme=dark] .colab-df-convert:hover {\n",
              "      background-color: #434B5C;\n",
              "      box-shadow: 0px 1px 3px 1px rgba(0, 0, 0, 0.15);\n",
              "      filter: drop-shadow(0px 1px 2px rgba(0, 0, 0, 0.3));\n",
              "      fill: #FFFFFF;\n",
              "    }\n",
              "  </style>\n",
              "\n",
              "      <script>\n",
              "        const buttonEl =\n",
              "          document.querySelector('#df-23ecdc23-29ed-4dac-850a-9c2ca9304489 button.colab-df-convert');\n",
              "        buttonEl.style.display =\n",
              "          google.colab.kernel.accessAllowed ? 'block' : 'none';\n",
              "\n",
              "        async function convertToInteractive(key) {\n",
              "          const element = document.querySelector('#df-23ecdc23-29ed-4dac-850a-9c2ca9304489');\n",
              "          const dataTable =\n",
              "            await google.colab.kernel.invokeFunction('convertToInteractive',\n",
              "                                                     [key], {});\n",
              "          if (!dataTable) return;\n",
              "\n",
              "          const docLinkHtml = 'Like what you see? Visit the ' +\n",
              "            '<a target=\"_blank\" href=https://colab.research.google.com/notebooks/data_table.ipynb>data table notebook</a>'\n",
              "            + ' to learn more about interactive tables.';\n",
              "          element.innerHTML = '';\n",
              "          dataTable['output_type'] = 'display_data';\n",
              "          await google.colab.output.renderOutput(dataTable, element);\n",
              "          const docLink = document.createElement('div');\n",
              "          docLink.innerHTML = docLinkHtml;\n",
              "          element.appendChild(docLink);\n",
              "        }\n",
              "      </script>\n",
              "    </div>\n",
              "  </div>\n",
              "  "
            ]
          },
          "metadata": {},
          "execution_count": 14
        }
      ]
    },
    {
      "cell_type": "code",
      "execution_count": 15,
      "metadata": {
        "id": "FBxSbO3r7pxx",
        "colab": {
          "base_uri": "https://localhost:8080/"
        },
        "outputId": "76bf899c-cc99-4abe-89a6-a7225b5f3705"
      },
      "outputs": [
        {
          "output_type": "execute_result",
          "data": {
            "text/plain": [
              "False"
            ]
          },
          "metadata": {},
          "execution_count": 15
        }
      ],
      "source": [
        "corpus.isna().any() # detecting any missing values"
      ]
    },
    {
      "cell_type": "code",
      "execution_count": 16,
      "metadata": {
        "id": "uOz_bF9E7raa"
      },
      "outputs": [],
      "source": [
        "tokenizer.fit_on_texts(corpus) #update the internal vocabulary \n",
        "x1_train = tokenizer.texts_to_sequences(corpus_x1) #converting tokens of text corpus into a sequence of integers.\n",
        "x2_train = tokenizer.texts_to_sequences(corpus_x2) #converting tokens of text corpus into a sequence of integers."
      ]
    },
    {
      "cell_type": "code",
      "source": [
        "len(x1_train)"
      ],
      "metadata": {
        "colab": {
          "base_uri": "https://localhost:8080/"
        },
        "id": "Fsd4Z3YSOkDw",
        "outputId": "f8657074-2f01-44ee-aa24-a9a260841a96"
      },
      "execution_count": 17,
      "outputs": [
        {
          "output_type": "execute_result",
          "data": {
            "text/plain": [
              "256442"
            ]
          },
          "metadata": {},
          "execution_count": 17
        }
      ]
    },
    {
      "cell_type": "code",
      "execution_count": 18,
      "metadata": {
        "id": "VFon7y0Q7xd-",
        "colab": {
          "base_uri": "https://localhost:8080/"
        },
        "outputId": "a186b402-fc66-424c-8b59-8fd2a7f8a3ee"
      },
      "outputs": [
        {
          "output_type": "stream",
          "name": "stdout",
          "text": [
            "['two', 'new', 'old', 'age', 'insur', 'benefit', 'old', 'peopl', 'rural', 'area', 'got']\n"
          ]
        }
      ],
      "source": [
        "for seq in x1_train[:1]:\n",
        "    print([tokenizer.index_word[idx] for idx in seq])"
      ]
    },
    {
      "cell_type": "code",
      "execution_count": 19,
      "metadata": {
        "id": "RnkRE-Wx7z3W"
      },
      "outputs": [],
      "source": [
        "# Zero Padding\n",
        "Max_Seq_Length = 20 #ensure that all sequences in a list have the same length\n",
        "x1_train = keras.preprocessing.sequence.pad_sequences(x1_train, maxlen=Max_Seq_Length) \n",
        "x2_train = keras.preprocessing.sequence.pad_sequences(x2_train, maxlen=Max_Seq_Length) "
      ]
    },
    {
      "cell_type": "code",
      "execution_count": 20,
      "metadata": {
        "id": "xi8DMsjq7_Fr",
        "colab": {
          "base_uri": "https://localhost:8080/"
        },
        "outputId": "71d79b88-fa90-497e-cbbb-08c57b13046e"
      },
      "outputs": [
        {
          "output_type": "execute_result",
          "data": {
            "text/plain": [
              "array([0., 0., 0., 0., 0.], dtype=float32)"
            ]
          },
          "metadata": {},
          "execution_count": 20
        }
      ],
      "source": [
        "label_to_index = {'unrelated': 0,'agreed': 1,'disagreed': 2} #Label Mapping\n",
        "y_train = train.label.apply(lambda x: label_to_index[x]) # Small function w/ single arg.\n",
        "y_train = np.asarray(y_train).astype('float32') # Creating an array then converting to float type.\n",
        "y_train[:5] # Sample from above created array"
      ]
    },
    {
      "cell_type": "code",
      "source": [
        "y_train = keras.utils.np_utils.to_categorical(y_train)\n",
        "y_train[:5]"
      ],
      "metadata": {
        "colab": {
          "base_uri": "https://localhost:8080/"
        },
        "id": "yjXNdEUSN9ME",
        "outputId": "e8df6fe7-7f45-40c5-b0e0-b2cabb8c5d86"
      },
      "execution_count": 21,
      "outputs": [
        {
          "output_type": "execute_result",
          "data": {
            "text/plain": [
              "array([[1., 0., 0.],\n",
              "       [1., 0., 0.],\n",
              "       [1., 0., 0.],\n",
              "       [1., 0., 0.],\n",
              "       [1., 0., 0.]], dtype=float32)"
            ]
          },
          "metadata": {},
          "execution_count": 21
        }
      ]
    },
    {
      "cell_type": "code",
      "execution_count": 22,
      "metadata": {
        "id": "IDVxLDzY8Kpd"
      },
      "outputs": [],
      "source": [
        "x1_train, x1_test, x2_train, x2_test, y_train, y_test = train_test_split(x1_train, x2_train, y_train, test_size=0.2, random_state=42) "
      ]
    },
    {
      "cell_type": "code",
      "execution_count": 35,
      "metadata": {
        "id": "uIk-FA0p8BOn"
      },
      "outputs": [],
      "source": [
        "Max_Words = 10000\n",
        "Max_Seq_Length = 256\n",
        "Embed_Dim = 128\n",
        "Lstm_Units = 128"
      ]
    },
    {
      "cell_type": "code",
      "source": [
        "InputA = keras.layers.Input(shape=(Max_Seq_Length, ), dtype='int32')\n",
        "InputB = keras.layers.Input(shape=(Max_Seq_Length, ), dtype='int32')\n",
        "embedding_layer = keras.layers.Embedding(Max_Words, Embed_Dim)\n",
        "EmbedA = embedding_layer(InputA)\n",
        "EmbedB = embedding_layer(InputB)\n",
        "LstmLayer = keras.layers.LSTM(Lstm_Units)\n",
        "OutputA = LstmLayer(EmbedA)\n",
        "OutputB = LstmLayer(EmbedB)\n",
        "Concat_Layer = keras.layers.concatenate([OutputA, OutputB], axis=-1) # Combine the output of the two branches\n",
        "DenseLayer = keras.layers.Dense(units=3, activation='softmax')\n",
        "Pred_Data = DenseLayer(Concat_Layer)\n",
        "model = Model(inputs=[InputA, InputB], outputs=Pred_Data)\n",
        "model.summary()"
      ],
      "metadata": {
        "colab": {
          "base_uri": "https://localhost:8080/"
        },
        "id": "HjJcGn-SEKG4",
        "outputId": "744dbd76-5fcf-436b-e985-de013da7dc86"
      },
      "execution_count": 36,
      "outputs": [
        {
          "output_type": "stream",
          "name": "stdout",
          "text": [
            "Model: \"model_1\"\n",
            "__________________________________________________________________________________________________\n",
            " Layer (type)                   Output Shape         Param #     Connected to                     \n",
            "==================================================================================================\n",
            " input_3 (InputLayer)           [(None, 256)]        0           []                               \n",
            "                                                                                                  \n",
            " input_4 (InputLayer)           [(None, 256)]        0           []                               \n",
            "                                                                                                  \n",
            " embedding_1 (Embedding)        (None, 256, 128)     1280000     ['input_3[0][0]',                \n",
            "                                                                  'input_4[0][0]']                \n",
            "                                                                                                  \n",
            " lstm_1 (LSTM)                  (None, 128)          131584      ['embedding_1[0][0]',            \n",
            "                                                                  'embedding_1[1][0]']            \n",
            "                                                                                                  \n",
            " concatenate_1 (Concatenate)    (None, 256)          0           ['lstm_1[0][0]',                 \n",
            "                                                                  'lstm_1[1][0]']                 \n",
            "                                                                                                  \n",
            " dense_1 (Dense)                (None, 3)            771         ['concatenate_1[0][0]']          \n",
            "                                                                                                  \n",
            "==================================================================================================\n",
            "Total params: 1,412,355\n",
            "Trainable params: 1,412,355\n",
            "Non-trainable params: 0\n",
            "__________________________________________________________________________________________________\n"
          ]
        }
      ]
    },
    {
      "cell_type": "code",
      "execution_count": 25,
      "metadata": {
        "id": "dnm2WknT8V3h"
      },
      "outputs": [],
      "source": [
        "model.compile(optimizer='adam', loss='categorical_crossentropy', metrics=['accuracy'])"
      ]
    },
    {
      "cell_type": "code",
      "execution_count": 26,
      "metadata": {
        "id": "MM1bx6vz8ZnK",
        "colab": {
          "base_uri": "https://localhost:8080/"
        },
        "outputId": "2cd50300-feb1-45d6-af0c-e5a98aa0bce5"
      },
      "outputs": [
        {
          "output_type": "stream",
          "name": "stdout",
          "text": [
            "1603/1603 [==============================] - 356s 220ms/step - loss: 0.5000 - accuracy: 0.7654 - val_loss: 0.4468 - val_accuracy: 0.7923\n"
          ]
        }
      ],
      "source": [
        "Batch_size = 128\n",
        "Epoch = 10\n",
        "history = model.fit(x=[x1_train, x2_train], y=y_train, batch_size=Batch_size, epochs=Epoch, validation_data=([x1_test, x2_test], y_test), shuffle=True)"
      ]
    },
    {
      "cell_type": "code",
      "execution_count": 37,
      "metadata": {
        "id": "MH_AfBnp8gxe",
        "colab": {
          "base_uri": "https://localhost:8080/",
          "height": 206
        },
        "outputId": "57bbf9d2-162b-42bd-e872-0e83362b6be7"
      },
      "outputs": [
        {
          "output_type": "execute_result",
          "data": {
            "text/plain": [
              "       id    tid1    tid2                                          title1_en  \\\n",
              "0  256442  100672  100673  The great coat brother Zhu Zhu Wen, in the man...   \n",
              "1  256443  162269  162270  NASA reveals facts about UFO wreckage found on...   \n",
              "2  256444  157826  157854      The hollow tomatoes are loaded with hormones.   \n",
              "3  256445  109579   74076  Ange Pavilion Geoshui: How accurate is Matrimo...   \n",
              "4  256446   15068   15085  A 50-year-old bus-bus blows up an 8-year-old c...   \n",
              "\n",
              "                                           title2_en  \n",
              "0  Lin xinsheng after the birth of \"hard milking,...  \n",
              "1  The UFO found in Yuancun, Jiaocheng County, Sh...  \n",
              "2  Li chenfan bingbing home photos, netizen: this...  \n",
              "3  Master one: the eight-character presumption of...  \n",
              "4  < i > Joe Johnson's disgruntled timing and ord...  "
            ],
            "text/html": [
              "\n",
              "  <div id=\"df-2963a330-6941-4537-8a47-74aead538613\">\n",
              "    <div class=\"colab-df-container\">\n",
              "      <div>\n",
              "<style scoped>\n",
              "    .dataframe tbody tr th:only-of-type {\n",
              "        vertical-align: middle;\n",
              "    }\n",
              "\n",
              "    .dataframe tbody tr th {\n",
              "        vertical-align: top;\n",
              "    }\n",
              "\n",
              "    .dataframe thead th {\n",
              "        text-align: right;\n",
              "    }\n",
              "</style>\n",
              "<table border=\"1\" class=\"dataframe\">\n",
              "  <thead>\n",
              "    <tr style=\"text-align: right;\">\n",
              "      <th></th>\n",
              "      <th>id</th>\n",
              "      <th>tid1</th>\n",
              "      <th>tid2</th>\n",
              "      <th>title1_en</th>\n",
              "      <th>title2_en</th>\n",
              "    </tr>\n",
              "  </thead>\n",
              "  <tbody>\n",
              "    <tr>\n",
              "      <th>0</th>\n",
              "      <td>256442</td>\n",
              "      <td>100672</td>\n",
              "      <td>100673</td>\n",
              "      <td>The great coat brother Zhu Zhu Wen, in the man...</td>\n",
              "      <td>Lin xinsheng after the birth of \"hard milking,...</td>\n",
              "    </tr>\n",
              "    <tr>\n",
              "      <th>1</th>\n",
              "      <td>256443</td>\n",
              "      <td>162269</td>\n",
              "      <td>162270</td>\n",
              "      <td>NASA reveals facts about UFO wreckage found on...</td>\n",
              "      <td>The UFO found in Yuancun, Jiaocheng County, Sh...</td>\n",
              "    </tr>\n",
              "    <tr>\n",
              "      <th>2</th>\n",
              "      <td>256444</td>\n",
              "      <td>157826</td>\n",
              "      <td>157854</td>\n",
              "      <td>The hollow tomatoes are loaded with hormones.</td>\n",
              "      <td>Li chenfan bingbing home photos, netizen: this...</td>\n",
              "    </tr>\n",
              "    <tr>\n",
              "      <th>3</th>\n",
              "      <td>256445</td>\n",
              "      <td>109579</td>\n",
              "      <td>74076</td>\n",
              "      <td>Ange Pavilion Geoshui: How accurate is Matrimo...</td>\n",
              "      <td>Master one: the eight-character presumption of...</td>\n",
              "    </tr>\n",
              "    <tr>\n",
              "      <th>4</th>\n",
              "      <td>256446</td>\n",
              "      <td>15068</td>\n",
              "      <td>15085</td>\n",
              "      <td>A 50-year-old bus-bus blows up an 8-year-old c...</td>\n",
              "      <td>&lt; i &gt; Joe Johnson's disgruntled timing and ord...</td>\n",
              "    </tr>\n",
              "  </tbody>\n",
              "</table>\n",
              "</div>\n",
              "      <button class=\"colab-df-convert\" onclick=\"convertToInteractive('df-2963a330-6941-4537-8a47-74aead538613')\"\n",
              "              title=\"Convert this dataframe to an interactive table.\"\n",
              "              style=\"display:none;\">\n",
              "        \n",
              "  <svg xmlns=\"http://www.w3.org/2000/svg\" height=\"24px\"viewBox=\"0 0 24 24\"\n",
              "       width=\"24px\">\n",
              "    <path d=\"M0 0h24v24H0V0z\" fill=\"none\"/>\n",
              "    <path d=\"M18.56 5.44l.94 2.06.94-2.06 2.06-.94-2.06-.94-.94-2.06-.94 2.06-2.06.94zm-11 1L8.5 8.5l.94-2.06 2.06-.94-2.06-.94L8.5 2.5l-.94 2.06-2.06.94zm10 10l.94 2.06.94-2.06 2.06-.94-2.06-.94-.94-2.06-.94 2.06-2.06.94z\"/><path d=\"M17.41 7.96l-1.37-1.37c-.4-.4-.92-.59-1.43-.59-.52 0-1.04.2-1.43.59L10.3 9.45l-7.72 7.72c-.78.78-.78 2.05 0 2.83L4 21.41c.39.39.9.59 1.41.59.51 0 1.02-.2 1.41-.59l7.78-7.78 2.81-2.81c.8-.78.8-2.07 0-2.86zM5.41 20L4 18.59l7.72-7.72 1.47 1.35L5.41 20z\"/>\n",
              "  </svg>\n",
              "      </button>\n",
              "      \n",
              "  <style>\n",
              "    .colab-df-container {\n",
              "      display:flex;\n",
              "      flex-wrap:wrap;\n",
              "      gap: 12px;\n",
              "    }\n",
              "\n",
              "    .colab-df-convert {\n",
              "      background-color: #E8F0FE;\n",
              "      border: none;\n",
              "      border-radius: 50%;\n",
              "      cursor: pointer;\n",
              "      display: none;\n",
              "      fill: #1967D2;\n",
              "      height: 32px;\n",
              "      padding: 0 0 0 0;\n",
              "      width: 32px;\n",
              "    }\n",
              "\n",
              "    .colab-df-convert:hover {\n",
              "      background-color: #E2EBFA;\n",
              "      box-shadow: 0px 1px 2px rgba(60, 64, 67, 0.3), 0px 1px 3px 1px rgba(60, 64, 67, 0.15);\n",
              "      fill: #174EA6;\n",
              "    }\n",
              "\n",
              "    [theme=dark] .colab-df-convert {\n",
              "      background-color: #3B4455;\n",
              "      fill: #D2E3FC;\n",
              "    }\n",
              "\n",
              "    [theme=dark] .colab-df-convert:hover {\n",
              "      background-color: #434B5C;\n",
              "      box-shadow: 0px 1px 3px 1px rgba(0, 0, 0, 0.15);\n",
              "      filter: drop-shadow(0px 1px 2px rgba(0, 0, 0, 0.3));\n",
              "      fill: #FFFFFF;\n",
              "    }\n",
              "  </style>\n",
              "\n",
              "      <script>\n",
              "        const buttonEl =\n",
              "          document.querySelector('#df-2963a330-6941-4537-8a47-74aead538613 button.colab-df-convert');\n",
              "        buttonEl.style.display =\n",
              "          google.colab.kernel.accessAllowed ? 'block' : 'none';\n",
              "\n",
              "        async function convertToInteractive(key) {\n",
              "          const element = document.querySelector('#df-2963a330-6941-4537-8a47-74aead538613');\n",
              "          const dataTable =\n",
              "            await google.colab.kernel.invokeFunction('convertToInteractive',\n",
              "                                                     [key], {});\n",
              "          if (!dataTable) return;\n",
              "\n",
              "          const docLinkHtml = 'Like what you see? Visit the ' +\n",
              "            '<a target=\"_blank\" href=https://colab.research.google.com/notebooks/data_table.ipynb>data table notebook</a>'\n",
              "            + ' to learn more about interactive tables.';\n",
              "          element.innerHTML = '';\n",
              "          dataTable['output_type'] = 'display_data';\n",
              "          await google.colab.output.renderOutput(dataTable, element);\n",
              "          const docLink = document.createElement('div');\n",
              "          docLink.innerHTML = docLinkHtml;\n",
              "          element.appendChild(docLink);\n",
              "        }\n",
              "      </script>\n",
              "    </div>\n",
              "  </div>\n",
              "  "
            ]
          },
          "metadata": {},
          "execution_count": 37
        }
      ],
      "source": [
        "test = pd.read_csv(\"/content/test.csv\")\n",
        "test.head()"
      ]
    },
    {
      "cell_type": "code",
      "execution_count": 29,
      "metadata": {
        "id": "oziqnNSU8ixL"
      },
      "outputs": [],
      "source": [
        "test_corpus1 = []\n",
        "for i in range(0, len(test)):\n",
        "    review = re.sub('[^a-zA-Z]', ' ', test['title2_en'][i]) #function used to replace occurrences of a specific sub-string with a different sub-string.\n",
        "    review = review.lower() # convert to lower case\n",
        "    review = review.split() # split the sentence\n",
        "    review = [ps.stem(word) for word in review if not word in stopwords.words('english')] # checking if each word in the sentence belongs to the list of stopwords or not\n",
        "    review = ' '.join(review) # join the words without the stopwords\n",
        "    test_corpus1.append(review) # add back the sentence in the list without the stopwords\n",
        "\n",
        "test_corpus2 = []\n",
        "for i in range(0, len(test)):\n",
        "    review = re.sub('[^a-zA-Z]', ' ', test['title2_en'][i]) #function used to replace occurrences of a specific sub-string with a different sub-string.\n",
        "    review = review.lower() # convert to lower case\n",
        "    review = review.split() # split the sentence\n",
        "    review = [ps.stem(word) for word in review if not word in stopwords.words('english')] # checking if each word in the sentence belongs to the list of stopwords or not\n",
        "    review = ' '.join(review) # join the words without the stopwords\n",
        "    test_corpus2.append(review) # add back the sentence in the list without the stopwords"
      ]
    },
    {
      "cell_type": "code",
      "execution_count": 31,
      "metadata": {
        "id": "rN8dKtZ89ga3"
      },
      "outputs": [],
      "source": [
        "test['title1_en_tokenized'] = test_corpus1 \n",
        "test['title2_en_tokenized'] = test_corpus2"
      ]
    },
    {
      "cell_type": "code",
      "execution_count": 32,
      "metadata": {
        "id": "e4hoJnWj9kct"
      },
      "outputs": [],
      "source": [
        "x1_test = tokenizer.texts_to_sequences(test.title1_en_tokenized) #converting tokens of text corpus into a sequence of integers.\n",
        "x2_test = tokenizer.texts_to_sequences(test.title2_en_tokenized) #converting tokens of text corpus into a sequence of integers.\n",
        "x1_test = keras.preprocessing.sequence.pad_sequences(x1_test, maxlen=Max_Seq_Length)\n",
        "x2_test = keras.preprocessing.sequence.pad_sequences(x2_test, maxlen=Max_Seq_Length)    \n",
        "predictions = model.predict([x1_test, x2_test])"
      ]
    },
    {
      "cell_type": "code",
      "execution_count": 33,
      "metadata": {
        "id": "bJg6D7-d9mwn",
        "colab": {
          "base_uri": "https://localhost:8080/"
        },
        "outputId": "05b2c5db-53fb-4f3c-b070-1ca9a0a88642"
      },
      "outputs": [
        {
          "output_type": "execute_result",
          "data": {
            "text/plain": [
              "array([[5.6075466e-01, 4.3841669e-01, 8.2859857e-04],\n",
              "       [4.8939593e-02, 9.5013058e-01, 9.2984171e-04],\n",
              "       [5.8102459e-01, 4.1301647e-01, 5.9589385e-03],\n",
              "       [3.1719151e-01, 6.8215716e-01, 6.5139792e-04],\n",
              "       [9.6379369e-01, 2.4153480e-02, 1.2052707e-02]], dtype=float32)"
            ]
          },
          "metadata": {},
          "execution_count": 33
        }
      ],
      "source": [
        "predictions[:5]"
      ]
    },
    {
      "cell_type": "code",
      "execution_count": 34,
      "metadata": {
        "id": "ApxUe7pF9o25"
      },
      "outputs": [],
      "source": [
        "index_to_label = {v: k for k, v in label_to_index.items()}\n",
        "test['label'] = [index_to_label[idx] for idx in np.argmax(predictions, axis=1)]\n",
        "submission = test.loc[:, ['id', 'label']]\n",
        "submission.columns = ['id', 'label']\n",
        "submission.to_csv('submission.csv', index=False) #Storing the results in submission.csv\n"
      ]
    },
    {
      "cell_type": "code",
      "source": [
        ""
      ],
      "metadata": {
        "id": "jqv91YEtk6-5"
      },
      "execution_count": 34,
      "outputs": []
    }
  ],
  "metadata": {
    "colab": {
      "name": "OSNA_PROJ2.ipynb",
      "provenance": [],
      "collapsed_sections": []
    },
    "kernelspec": {
      "display_name": "Python 3",
      "name": "python3"
    },
    "language_info": {
      "name": "python"
    }
  },
  "nbformat": 4,
  "nbformat_minor": 0
}